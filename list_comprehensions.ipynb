{
 "cells": [
  {
   "cell_type": "markdown",
   "id": "0af5b16f",
   "metadata": {},
   "source": [
    "## List comprehensions"
   ]
  },
  {
   "cell_type": "code",
   "execution_count": 2,
   "id": "3b7c94de",
   "metadata": {},
   "outputs": [],
   "source": [
    "# 17 list comprehension problems in python\n",
    "\n",
    "fruits = ['mango', 'kiwi', 'strawberry', 'guava', 'pineapple', 'mandarin orange']\n",
    "\n",
    "numbers = [2, 3, 4, 5, 6, 7, 8, 9, 10, 11, 13, 17, 19, 23, 256, -8, -4, -2, 5, -9]\n",
    "\n",
    "# Example for loop solution to add 1 to each number in the list\n",
    "numbers_plus_one = []\n",
    "for number in numbers:\n",
    "    numbers_plus_one.append(number + 1)\n",
    "\n",
    "# Example of using a list comprehension to create a list of the numbers plus one.\n",
    "numbers_plus_one = [number + 1 for number in numbers]\n",
    "\n",
    "# Example code that creates a list of all of the list of strings in fruits and uppercases every string\n",
    "output = []\n",
    "for fruit in fruits:\n",
    "    output.append(fruit.upper())"
   ]
  },
  {
   "cell_type": "markdown",
   "id": "e840b42c",
   "metadata": {},
   "source": [
    "#### Exercise 1 - rewrite the above example code using list comprehension syntax. Make a variable named uppercased_fruits to hold the output of the list comprehension. Output should be ['MANGO', 'KIWI', etc...]\n"
   ]
  },
  {
   "cell_type": "code",
   "execution_count": 28,
   "id": "ab30e976",
   "metadata": {},
   "outputs": [
    {
     "name": "stdout",
     "output_type": "stream",
     "text": [
      "['MANGO', 'KIWI', 'STRAWBERRY', 'GUAVA', 'PINEAPPLE', 'MANDARIN ORANGE']\n"
     ]
    }
   ],
   "source": [
    "fruits = ['mango', 'kiwi', 'strawberry', 'guava', 'pineapple', 'mandarin orange']\n",
    "\n",
    "uppercased_fruits = []\n",
    "for fruit in fruits:\n",
    "    uppercased_fruits.append(fruit.upper())\n",
    "print(uppercased_fruits)"
   ]
  },
  {
   "cell_type": "code",
   "execution_count": 33,
   "id": "658e2ee0",
   "metadata": {},
   "outputs": [
    {
     "name": "stdout",
     "output_type": "stream",
     "text": [
      "['MANGO', 'KIWI', 'STRAWBERRY', 'GUAVA', 'PINEAPPLE', 'MANDARIN ORANGE']\n"
     ]
    }
   ],
   "source": [
    "uppercased_fruits = [fruit.upper() for fruit in fruits]\n",
    "print(uppercased_fruits)"
   ]
  },
  {
   "cell_type": "markdown",
   "id": "a6916c39",
   "metadata": {},
   "source": [
    "#### Exercise 2 - create a variable named capitalized_fruits and use list comprehension syntax to produce output like ['Mango', 'Kiwi', 'Strawberry', etc...]\n"
   ]
  },
  {
   "cell_type": "code",
   "execution_count": 29,
   "id": "ba1e4970",
   "metadata": {},
   "outputs": [
    {
     "name": "stdout",
     "output_type": "stream",
     "text": [
      "['Mango', 'Kiwi', 'Strawberry', 'Guava', 'Pineapple', 'Mandarin orange']\n"
     ]
    }
   ],
   "source": [
    "capitalized_fruits = []\n",
    "for fruit in fruits:\n",
    "    capitalized_fruits.append(fruit.capitalize())\n",
    "print(capitalized_fruits)"
   ]
  },
  {
   "cell_type": "code",
   "execution_count": 35,
   "id": "67d53fb0",
   "metadata": {},
   "outputs": [
    {
     "name": "stdout",
     "output_type": "stream",
     "text": [
      "['Mango', 'Kiwi', 'Strawberry', 'Guava', 'Pineapple', 'Mandarin orange']\n"
     ]
    }
   ],
   "source": [
    "capitalized_fruits = [fruit.capitalize() for fruit in fruits]\n",
    "print(capitalized_fruits)"
   ]
  },
  {
   "cell_type": "markdown",
   "id": "4518693e",
   "metadata": {},
   "source": [
    "#### Exercise 3 - Use a list comprehension to make a variable named fruits_with_more_than_two_vowels. Hint: You'll need a way to check if something is a vowel."
   ]
  },
  {
   "cell_type": "code",
   "execution_count": 6,
   "id": "d53c7249",
   "metadata": {},
   "outputs": [
    {
     "data": {
      "text/plain": [
       "['guava', 'pineapple', 'mandarin orange']"
      ]
     },
     "execution_count": 6,
     "metadata": {},
     "output_type": "execute_result"
    }
   ],
   "source": [
    "vowel = ('aeiou')\n",
    "fruits_with_more_than_two_vowels = [fruit for fruit in fruits if (fruit.count('a') + fruit.count('e') + fruit.count('i') + fruit.count('o') + fruit.count('u')) > 2]\n",
    "fruits_with_more_than_two_vowels"
   ]
  },
  {
   "cell_type": "markdown",
   "id": "b76a9c36",
   "metadata": {},
   "source": [
    "#### Exercise 4 - make a variable named fruits_with_only_two_vowels. The result should be ['mango', 'kiwi', 'strawberry']"
   ]
  },
  {
   "cell_type": "code",
   "execution_count": 5,
   "id": "9ed1c03d",
   "metadata": {},
   "outputs": [
    {
     "data": {
      "text/plain": [
       "['mango', 'kiwi', 'strawberry']"
      ]
     },
     "execution_count": 5,
     "metadata": {},
     "output_type": "execute_result"
    }
   ],
   "source": [
    "fruits_with_only_two_vowels = [fruit for fruit in fruits if (fruit.count('a') + fruit.count('e') + fruit.count('i') + fruit.count('o') + fruit.count('u')) == 2]\n",
    "fruits_with_only_two_vowels"
   ]
  },
  {
   "cell_type": "markdown",
   "id": "fb048b74",
   "metadata": {},
   "source": [
    "#### Exercise 5 - make a list that contains each fruit with more than 5 characters"
   ]
  },
  {
   "cell_type": "code",
   "execution_count": 4,
   "id": "daadd311",
   "metadata": {},
   "outputs": [
    {
     "data": {
      "text/plain": [
       "['strawberry', 'pineapple', 'mandarin orange']"
      ]
     },
     "execution_count": 4,
     "metadata": {},
     "output_type": "execute_result"
    }
   ],
   "source": [
    "over_five_char_fruits = [fruit for fruit in fruits if len(fruit) > 5]\n",
    "over_five_char_fruits"
   ]
  },
  {
   "cell_type": "markdown",
   "id": "4d6a2230",
   "metadata": {},
   "source": [
    "#### Exercise 6 - make a list that contains each fruit with exactly 5 characters"
   ]
  },
  {
   "cell_type": "code",
   "execution_count": 8,
   "id": "28832da2",
   "metadata": {},
   "outputs": [
    {
     "data": {
      "text/plain": [
       "['mango', 'guava']"
      ]
     },
     "execution_count": 8,
     "metadata": {},
     "output_type": "execute_result"
    }
   ],
   "source": [
    "fruits_with_five_char = [fruit for fruit in fruits if len(fruit) == 5]\n",
    "fruits_with_five_char"
   ]
  },
  {
   "cell_type": "markdown",
   "id": "bd3b7e11",
   "metadata": {},
   "source": [
    "#### Exercise 7 - Make a list that contains fruits that have less than 5 characters\n"
   ]
  },
  {
   "cell_type": "code",
   "execution_count": 9,
   "id": "bd032509",
   "metadata": {},
   "outputs": [
    {
     "data": {
      "text/plain": [
       "['kiwi']"
      ]
     },
     "execution_count": 9,
     "metadata": {},
     "output_type": "execute_result"
    }
   ],
   "source": [
    "under_five_char_fruits = [fruit for fruit in fruits if len(fruit) < 5]\n",
    "under_five_char_fruits"
   ]
  },
  {
   "cell_type": "markdown",
   "id": "ecc5e934",
   "metadata": {},
   "source": [
    "#### Exercise 8 - Make a list containing the number of characters in each fruit. Output would be [5, 4, 10, etc... ]"
   ]
  },
  {
   "cell_type": "code",
   "execution_count": 10,
   "id": "84fcd7c5",
   "metadata": {},
   "outputs": [
    {
     "data": {
      "text/plain": [
       "[5, 4, 10, 5, 9, 15]"
      ]
     },
     "execution_count": 10,
     "metadata": {},
     "output_type": "execute_result"
    }
   ],
   "source": [
    "number_of_char = [len(fruit) for fruit in fruits]\n",
    "number_of_char"
   ]
  },
  {
   "cell_type": "code",
   "execution_count": null,
   "id": "3d18c1d8",
   "metadata": {},
   "outputs": [],
   "source": []
  }
 ],
 "metadata": {
  "kernelspec": {
   "display_name": "Python 3 (ipykernel)",
   "language": "python",
   "name": "python3"
  },
  "language_info": {
   "codemirror_mode": {
    "name": "ipython",
    "version": 3
   },
   "file_extension": ".py",
   "mimetype": "text/x-python",
   "name": "python",
   "nbconvert_exporter": "python",
   "pygments_lexer": "ipython3",
   "version": "3.9.7"
  }
 },
 "nbformat": 4,
 "nbformat_minor": 5
}

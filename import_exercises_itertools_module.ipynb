{
 "cells": [
  {
   "cell_type": "markdown",
   "id": "3bf5a074",
   "metadata": {},
   "source": [
    "#### 1.c. Create a jupyter notebook named import_exercises.ipynb. Use from to import the get_letter_grade function and give it an alias. Test this function in your notebook."
   ]
  },
  {
   "cell_type": "code",
   "execution_count": 2,
   "id": "4e2fd405",
   "metadata": {},
   "outputs": [],
   "source": [
    "from functions_exercises import get_letter_grade"
   ]
  },
  {
   "cell_type": "code",
   "execution_count": 5,
   "id": "67f95a20",
   "metadata": {},
   "outputs": [
    {
     "data": {
      "text/plain": [
       "'Your grade is: A'"
      ]
     },
     "execution_count": 5,
     "metadata": {},
     "output_type": "execute_result"
    }
   ],
   "source": [
    "get_letter_grade(96)"
   ]
  },
  {
   "cell_type": "code",
   "execution_count": 7,
   "id": "980382b9",
   "metadata": {},
   "outputs": [],
   "source": [
    "import itertools"
   ]
  },
  {
   "cell_type": "markdown",
   "id": "f4b33627",
   "metadata": {},
   "source": [
    "#### 2."
   ]
  },
  {
   "cell_type": "markdown",
   "id": "a30adc56",
   "metadata": {},
   "source": [
    "- How many different ways can you combine the letters from \"abc\" with the numbers 1, 2, and 3?"
   ]
  },
  {
   "cell_type": "markdown",
   "id": "0c5a58d3",
   "metadata": {},
   "source": [
    "We can combine \"abc\" and \"123\" in 4 different ways: through a product, a permutation, a combination, or a combination with a replacement."
   ]
  },
  {
   "cell_type": "code",
   "execution_count": 32,
   "id": "ce1e3604",
   "metadata": {},
   "outputs": [
    {
     "data": {
      "text/plain": [
       "[('A', 'A'),\n",
       " ('A', 'B'),\n",
       " ('A', 'C'),\n",
       " ('A', 'D'),\n",
       " ('A', '1'),\n",
       " ('A', '2'),\n",
       " ('A', '3'),\n",
       " ('B', 'A'),\n",
       " ('B', 'B'),\n",
       " ('B', 'C'),\n",
       " ('B', 'D'),\n",
       " ('B', '1'),\n",
       " ('B', '2'),\n",
       " ('B', '3'),\n",
       " ('C', 'A'),\n",
       " ('C', 'B'),\n",
       " ('C', 'C'),\n",
       " ('C', 'D'),\n",
       " ('C', '1'),\n",
       " ('C', '2'),\n",
       " ('C', '3'),\n",
       " ('D', 'A'),\n",
       " ('D', 'B'),\n",
       " ('D', 'C'),\n",
       " ('D', 'D'),\n",
       " ('D', '1'),\n",
       " ('D', '2'),\n",
       " ('D', '3'),\n",
       " ('1', 'A'),\n",
       " ('1', 'B'),\n",
       " ('1', 'C'),\n",
       " ('1', 'D'),\n",
       " ('1', '1'),\n",
       " ('1', '2'),\n",
       " ('1', '3'),\n",
       " ('2', 'A'),\n",
       " ('2', 'B'),\n",
       " ('2', 'C'),\n",
       " ('2', 'D'),\n",
       " ('2', '1'),\n",
       " ('2', '2'),\n",
       " ('2', '3'),\n",
       " ('3', 'A'),\n",
       " ('3', 'B'),\n",
       " ('3', 'C'),\n",
       " ('3', 'D'),\n",
       " ('3', '1'),\n",
       " ('3', '2'),\n",
       " ('3', '3')]"
      ]
     },
     "execution_count": 32,
     "metadata": {},
     "output_type": "execute_result"
    }
   ],
   "source": [
    "#For product ABC and 123 need to be combined inside the same argument then associated to the iterative argument\n",
    "itertools.product('ABCD123', repeat = 1)\n",
    "list(itertools.product('ABCD123', repeat = 2))"
   ]
  },
  {
   "cell_type": "code",
   "execution_count": 34,
   "id": "7b79373a",
   "metadata": {},
   "outputs": [
    {
     "data": {
      "text/plain": [
       "[('A', 'B'),\n",
       " ('A', 'C'),\n",
       " ('A', 'D'),\n",
       " ('A', '1'),\n",
       " ('A', '2'),\n",
       " ('A', '3'),\n",
       " ('B', 'A'),\n",
       " ('B', 'C'),\n",
       " ('B', 'D'),\n",
       " ('B', '1'),\n",
       " ('B', '2'),\n",
       " ('B', '3'),\n",
       " ('C', 'A'),\n",
       " ('C', 'B'),\n",
       " ('C', 'D'),\n",
       " ('C', '1'),\n",
       " ('C', '2'),\n",
       " ('C', '3'),\n",
       " ('D', 'A'),\n",
       " ('D', 'B'),\n",
       " ('D', 'C'),\n",
       " ('D', '1'),\n",
       " ('D', '2'),\n",
       " ('D', '3'),\n",
       " ('1', 'A'),\n",
       " ('1', 'B'),\n",
       " ('1', 'C'),\n",
       " ('1', 'D'),\n",
       " ('1', '2'),\n",
       " ('1', '3'),\n",
       " ('2', 'A'),\n",
       " ('2', 'B'),\n",
       " ('2', 'C'),\n",
       " ('2', 'D'),\n",
       " ('2', '1'),\n",
       " ('2', '3'),\n",
       " ('3', 'A'),\n",
       " ('3', 'B'),\n",
       " ('3', 'C'),\n",
       " ('3', 'D'),\n",
       " ('3', '1'),\n",
       " ('3', '2')]"
      ]
     },
     "execution_count": 34,
     "metadata": {},
     "output_type": "execute_result"
    }
   ],
   "source": [
    "itertools.permutations('ABCD123', 2)\n",
    "list(itertools.permutations('ABCD123', 2))"
   ]
  },
  {
   "cell_type": "code",
   "execution_count": 37,
   "id": "4ca75352",
   "metadata": {},
   "outputs": [
    {
     "data": {
      "text/plain": [
       "[('A', 'B'),\n",
       " ('A', 'C'),\n",
       " ('A', 'D'),\n",
       " ('A', '1'),\n",
       " ('A', '2'),\n",
       " ('A', '3'),\n",
       " ('B', 'C'),\n",
       " ('B', 'D'),\n",
       " ('B', '1'),\n",
       " ('B', '2'),\n",
       " ('B', '3'),\n",
       " ('C', 'D'),\n",
       " ('C', '1'),\n",
       " ('C', '2'),\n",
       " ('C', '3'),\n",
       " ('D', '1'),\n",
       " ('D', '2'),\n",
       " ('D', '3'),\n",
       " ('1', '2'),\n",
       " ('1', '3'),\n",
       " ('2', '3')]"
      ]
     },
     "execution_count": 37,
     "metadata": {},
     "output_type": "execute_result"
    }
   ],
   "source": [
    "itertools.combinations('ABCD123', 2)\n",
    "list(itertools.combinations('ABCD123', 2))"
   ]
  },
  {
   "cell_type": "code",
   "execution_count": 38,
   "id": "47d7cc84",
   "metadata": {},
   "outputs": [
    {
     "data": {
      "text/plain": [
       "[('A', 'A'),\n",
       " ('A', 'B'),\n",
       " ('A', 'C'),\n",
       " ('A', 'D'),\n",
       " ('A', '1'),\n",
       " ('A', '2'),\n",
       " ('A', '3'),\n",
       " ('B', 'B'),\n",
       " ('B', 'C'),\n",
       " ('B', 'D'),\n",
       " ('B', '1'),\n",
       " ('B', '2'),\n",
       " ('B', '3'),\n",
       " ('C', 'C'),\n",
       " ('C', 'D'),\n",
       " ('C', '1'),\n",
       " ('C', '2'),\n",
       " ('C', '3'),\n",
       " ('D', 'D'),\n",
       " ('D', '1'),\n",
       " ('D', '2'),\n",
       " ('D', '3'),\n",
       " ('1', '1'),\n",
       " ('1', '2'),\n",
       " ('1', '3'),\n",
       " ('2', '2'),\n",
       " ('2', '3'),\n",
       " ('3', '3')]"
      ]
     },
     "execution_count": 38,
     "metadata": {},
     "output_type": "execute_result"
    }
   ],
   "source": [
    "itertools.combinations_with_replacement('ABCD123', 2)\n",
    "list(itertools.combinations_with_replacement('ABCD123', 2))"
   ]
  },
  {
   "cell_type": "markdown",
   "id": "e632577e",
   "metadata": {},
   "source": [
    "- How many different combinations are there of 2 letters from \"abcd\"?"
   ]
  },
  {
   "cell_type": "code",
   "execution_count": 39,
   "id": "13e581b6",
   "metadata": {},
   "outputs": [
    {
     "data": {
      "text/plain": [
       "[('A', 'B'), ('A', 'C'), ('A', 'D'), ('B', 'C'), ('B', 'D'), ('C', 'D')]"
      ]
     },
     "execution_count": 39,
     "metadata": {},
     "output_type": "execute_result"
    }
   ],
   "source": [
    "itertools.combinations('ABCD', 2)\n",
    "list(itertools.combinations('ABCD', 2))"
   ]
  },
  {
   "cell_type": "markdown",
   "id": "20b3f58a",
   "metadata": {},
   "source": [
    "- How many different permutations are there of 2 letters from \"abcd\"?"
   ]
  },
  {
   "cell_type": "code",
   "execution_count": 40,
   "id": "5ad4d0de",
   "metadata": {},
   "outputs": [
    {
     "data": {
      "text/plain": [
       "[('A', 'B'),\n",
       " ('A', 'C'),\n",
       " ('A', 'D'),\n",
       " ('B', 'A'),\n",
       " ('B', 'C'),\n",
       " ('B', 'D'),\n",
       " ('C', 'A'),\n",
       " ('C', 'B'),\n",
       " ('C', 'D'),\n",
       " ('D', 'A'),\n",
       " ('D', 'B'),\n",
       " ('D', 'C')]"
      ]
     },
     "execution_count": 40,
     "metadata": {},
     "output_type": "execute_result"
    }
   ],
   "source": [
    "itertools.permutations('ABCD', 2)\n",
    "list(itertools.permutations('ABCD', 2))"
   ]
  },
  {
   "cell_type": "code",
   "execution_count": null,
   "id": "40f4662a",
   "metadata": {},
   "outputs": [],
   "source": []
  }
 ],
 "metadata": {
  "kernelspec": {
   "display_name": "Python 3 (ipykernel)",
   "language": "python",
   "name": "python3"
  },
  "language_info": {
   "codemirror_mode": {
    "name": "ipython",
    "version": 3
   },
   "file_extension": ".py",
   "mimetype": "text/x-python",
   "name": "python",
   "nbconvert_exporter": "python",
   "pygments_lexer": "ipython3",
   "version": "3.9.7"
  }
 },
 "nbformat": 4,
 "nbformat_minor": 5
}

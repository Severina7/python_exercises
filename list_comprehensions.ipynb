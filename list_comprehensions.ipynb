{
 "cells": [
  {
   "cell_type": "markdown",
   "id": "a6b3d039",
   "metadata": {},
   "source": [
    "## List comprehensions"
   ]
  },
  {
   "cell_type": "code",
   "execution_count": 19,
   "id": "df954fd9",
   "metadata": {},
   "outputs": [],
   "source": [
    "# 17 list comprehension problems in python\n",
    "\n",
    "fruits = ['mango', 'kiwi', 'strawberry', 'guava', 'pineapple', 'mandarin orange']\n",
    "\n",
    "numbers = [2, 3, 4, 5, 6, 7, 8, 9, 10, 11, 13, 17, 19, 23, 256, -8, -4, -2, 5, -9]\n",
    "\n",
    "# Example for loop solution to add 1 to each number in the list\n",
    "numbers_plus_one = []\n",
    "for number in numbers:\n",
    "    numbers_plus_one.append(number + 1)\n",
    "\n",
    "# Example of using a list comprehension to create a list of the numbers plus one.\n",
    "numbers_plus_one = [number + 1 for number in numbers]\n",
    "\n",
    "# Example code that creates a list of all of the list of strings in fruits and uppercases every string\n",
    "output = []\n",
    "for fruit in fruits:\n",
    "    output.append(fruit.upper())"
   ]
  },
  {
   "cell_type": "markdown",
   "id": "e4104097",
   "metadata": {},
   "source": [
    "#### Exercise 1 - rewrite the above example code using list comprehension syntax. Make a variable named uppercased_fruits to hold the output of the list comprehension. Output should be ['MANGO', 'KIWI', etc...]\n"
   ]
  },
  {
   "cell_type": "code",
   "execution_count": 2,
   "id": "0e785435",
   "metadata": {},
   "outputs": [
    {
     "name": "stdout",
     "output_type": "stream",
     "text": [
      "['MANGO', 'KIWI', 'STRAWBERRY', 'GUAVA', 'PINEAPPLE', 'MANDARIN ORANGE']\n"
     ]
    }
   ],
   "source": [
    "fruits = ['mango', 'kiwi', 'strawberry', 'guava', 'pineapple', 'mandarin orange']\n",
    "\n",
    "uppercased_fruits = []\n",
    "for fruit in fruits:\n",
    "    uppercased_fruits.append(fruit.upper())\n",
    "print(uppercased_fruits)"
   ]
  },
  {
   "cell_type": "code",
   "execution_count": 3,
   "id": "5d5b20e4",
   "metadata": {},
   "outputs": [
    {
     "name": "stdout",
     "output_type": "stream",
     "text": [
      "['MANGO', 'KIWI', 'STRAWBERRY', 'GUAVA', 'PINEAPPLE', 'MANDARIN ORANGE']\n"
     ]
    }
   ],
   "source": [
    "uppercased_fruits = [fruit.upper() for fruit in fruits]\n",
    "print(uppercased_fruits)"
   ]
  },
  {
   "cell_type": "markdown",
   "id": "3907be5f",
   "metadata": {},
   "source": [
    "#### Exercise 2 - create a variable named capitalized_fruits and use list comprehension syntax to produce output like ['Mango', 'Kiwi', 'Strawberry', etc...]\n"
   ]
  },
  {
   "cell_type": "code",
   "execution_count": 4,
   "id": "23e317c4",
   "metadata": {},
   "outputs": [
    {
     "name": "stdout",
     "output_type": "stream",
     "text": [
      "['Mango', 'Kiwi', 'Strawberry', 'Guava', 'Pineapple', 'Mandarin orange']\n"
     ]
    }
   ],
   "source": [
    "capitalized_fruits = []\n",
    "for fruit in fruits:\n",
    "    capitalized_fruits.append(fruit.capitalize())\n",
    "print(capitalized_fruits)"
   ]
  },
  {
   "cell_type": "code",
   "execution_count": 5,
   "id": "416691ab",
   "metadata": {},
   "outputs": [
    {
     "name": "stdout",
     "output_type": "stream",
     "text": [
      "['Mango', 'Kiwi', 'Strawberry', 'Guava', 'Pineapple', 'Mandarin orange']\n"
     ]
    }
   ],
   "source": [
    "capitalized_fruits = [fruit.capitalize() for fruit in fruits]\n",
    "print(capitalized_fruits)"
   ]
  },
  {
   "cell_type": "markdown",
   "id": "3acca4ab",
   "metadata": {},
   "source": [
    "#### Exercise 3 - Use a list comprehension to make a variable named fruits_with_more_than_two_vowels. Hint: You'll need a way to check if something is a vowel."
   ]
  },
  {
   "cell_type": "code",
   "execution_count": 6,
   "id": "1a8aab52",
   "metadata": {},
   "outputs": [
    {
     "data": {
      "text/plain": [
       "['guava', 'pineapple', 'mandarin orange']"
      ]
     },
     "execution_count": 6,
     "metadata": {},
     "output_type": "execute_result"
    }
   ],
   "source": [
    "vowel = ('aeiou')\n",
    "fruits_with_more_than_two_vowels = [fruit for fruit in fruits if (fruit.count('a') + fruit.count('e') + fruit.count('i') + fruit.count('o') + fruit.count('u')) > 2]\n",
    "fruits_with_more_than_two_vowels"
   ]
  },
  {
   "cell_type": "markdown",
   "id": "8f94ecfb",
   "metadata": {},
   "source": [
    "#### Exercise 4 - make a variable named fruits_with_only_two_vowels. The result should be ['mango', 'kiwi', 'strawberry']"
   ]
  },
  {
   "cell_type": "code",
   "execution_count": 7,
   "id": "7229353f",
   "metadata": {},
   "outputs": [
    {
     "data": {
      "text/plain": [
       "['mango', 'kiwi', 'strawberry']"
      ]
     },
     "execution_count": 7,
     "metadata": {},
     "output_type": "execute_result"
    }
   ],
   "source": [
    "fruits_with_only_two_vowels = [fruit for fruit in fruits if (fruit.count('a') + fruit.count('e') + fruit.count('i') + fruit.count('o') + fruit.count('u')) == 2]\n",
    "fruits_with_only_two_vowels"
   ]
  },
  {
   "cell_type": "markdown",
   "id": "d9746931",
   "metadata": {},
   "source": [
    "#### Exercise 5 - make a list that contains each fruit with more than 5 characters"
   ]
  },
  {
   "cell_type": "code",
   "execution_count": 8,
   "id": "fbc4721a",
   "metadata": {},
   "outputs": [
    {
     "data": {
      "text/plain": [
       "['strawberry', 'pineapple', 'mandarin orange']"
      ]
     },
     "execution_count": 8,
     "metadata": {},
     "output_type": "execute_result"
    }
   ],
   "source": [
    "over_five_char_fruits = [fruit for fruit in fruits if len(fruit) > 5]\n",
    "over_five_char_fruits"
   ]
  },
  {
   "cell_type": "markdown",
   "id": "72565c66",
   "metadata": {},
   "source": [
    "#### Exercise 6 - make a list that contains each fruit with exactly 5 characters"
   ]
  },
  {
   "cell_type": "code",
   "execution_count": 9,
   "id": "1a6207f2",
   "metadata": {},
   "outputs": [
    {
     "data": {
      "text/plain": [
       "['mango', 'guava']"
      ]
     },
     "execution_count": 9,
     "metadata": {},
     "output_type": "execute_result"
    }
   ],
   "source": [
    "fruits_with_five_char = [fruit for fruit in fruits if len(fruit) == 5]\n",
    "fruits_with_five_char"
   ]
  },
  {
   "cell_type": "markdown",
   "id": "418ac55f",
   "metadata": {},
   "source": [
    "#### Exercise 7 - Make a list that contains fruits that have less than 5 characters\n"
   ]
  },
  {
   "cell_type": "code",
   "execution_count": 10,
   "id": "6982c3fc",
   "metadata": {},
   "outputs": [
    {
     "data": {
      "text/plain": [
       "['kiwi']"
      ]
     },
     "execution_count": 10,
     "metadata": {},
     "output_type": "execute_result"
    }
   ],
   "source": [
    "under_five_char_fruits = [fruit for fruit in fruits if len(fruit) < 5]\n",
    "under_five_char_fruits"
   ]
  },
  {
   "cell_type": "markdown",
   "id": "05a8159a",
   "metadata": {},
   "source": [
    "#### Exercise 8 - Make a list containing the number of characters in each fruit. Output would be [5, 4, 10, etc... ]"
   ]
  },
  {
   "cell_type": "code",
   "execution_count": 11,
   "id": "8d8cfdab",
   "metadata": {},
   "outputs": [
    {
     "data": {
      "text/plain": [
       "[5, 4, 10, 5, 9, 15]"
      ]
     },
     "execution_count": 11,
     "metadata": {},
     "output_type": "execute_result"
    }
   ],
   "source": [
    "number_of_char = [len(fruit) for fruit in fruits]\n",
    "number_of_char"
   ]
  },
  {
   "cell_type": "markdown",
   "id": "55a8a6f5",
   "metadata": {},
   "source": [
    "#### Exercise 9 - Make a variable named fruits_with_letter_a that contains a list of only the fruits that contain the letter \"a\""
   ]
  },
  {
   "cell_type": "code",
   "execution_count": 21,
   "id": "52a7dd64",
   "metadata": {},
   "outputs": [
    {
     "data": {
      "text/plain": [
       "['mango', 'strawberry', 'guava', 'pineapple', 'mandarin orange']"
      ]
     },
     "execution_count": 21,
     "metadata": {},
     "output_type": "execute_result"
    }
   ],
   "source": [
    "fruits_with_letter_a = [fruit for fruit in fruits if fruit.count('a')>= 1]\n",
    "fruits_with_letter_a"
   ]
  },
  {
   "cell_type": "markdown",
   "id": "1f3c177d",
   "metadata": {},
   "source": [
    "#### Exercise 10 - Make a variable named even_numbers that holds only the even numbers"
   ]
  },
  {
   "cell_type": "code",
   "execution_count": 23,
   "id": "0d5aad29",
   "metadata": {},
   "outputs": [
    {
     "data": {
      "text/plain": [
       "[2, 4, 6, 8, 10, 256, -8, -4, -2]"
      ]
     },
     "execution_count": 23,
     "metadata": {},
     "output_type": "execute_result"
    }
   ],
   "source": [
    "even_numbers = [x for x in numbers if x%2==0]\n",
    "even_numbers"
   ]
  },
  {
   "cell_type": "markdown",
   "id": "7a080f82",
   "metadata": {},
   "source": [
    "#### Exercise 11 - Make a variable named odd_numbers that holds only the odd numbers"
   ]
  },
  {
   "cell_type": "code",
   "execution_count": 27,
   "id": "e9a7f697",
   "metadata": {},
   "outputs": [
    {
     "data": {
      "text/plain": [
       "[3, 5, 7, 9, 11, 13, 17, 19, 23, 5, -9]"
      ]
     },
     "execution_count": 27,
     "metadata": {},
     "output_type": "execute_result"
    }
   ],
   "source": [
    "odd_numbers = [x for x in numbers if ~x%2==0]\n",
    "odd_numbers"
   ]
  },
  {
   "cell_type": "code",
   "execution_count": 28,
   "id": "12de9274",
   "metadata": {},
   "outputs": [
    {
     "data": {
      "text/plain": [
       "[3, 5, 7, 9, 11, 13, 17, 19, 23, 5, -9]"
      ]
     },
     "execution_count": 28,
     "metadata": {},
     "output_type": "execute_result"
    }
   ],
   "source": [
    "odd_numbers = [x for x in numbers if x%2!=0]\n",
    "odd_numbers"
   ]
  },
  {
   "cell_type": "markdown",
   "id": "5b04c5f5",
   "metadata": {},
   "source": [
    "#### Exercise 12 - Make a variable named positive_numbers that holds only the positive numbers"
   ]
  },
  {
   "cell_type": "code",
   "execution_count": 29,
   "id": "b6c25cfb",
   "metadata": {},
   "outputs": [
    {
     "data": {
      "text/plain": [
       "[2, 3, 4, 5, 6, 7, 8, 9, 10, 11, 13, 17, 19, 23, 256, 5]"
      ]
     },
     "execution_count": 29,
     "metadata": {},
     "output_type": "execute_result"
    }
   ],
   "source": [
    "positive_numbers = [x for x in numbers if x>0]\n",
    "positive_numbers"
   ]
  },
  {
   "cell_type": "markdown",
   "id": "db9acef8",
   "metadata": {},
   "source": [
    "#### Exercise 13 - Make a variable named negative_numbers that holds only the negative numbers"
   ]
  },
  {
   "cell_type": "code",
   "execution_count": 30,
   "id": "d46bc3ef",
   "metadata": {},
   "outputs": [
    {
     "data": {
      "text/plain": [
       "[-8, -4, -2, -9]"
      ]
     },
     "execution_count": 30,
     "metadata": {},
     "output_type": "execute_result"
    }
   ],
   "source": [
    "positive_numbers = [x for x in numbers if x<0]\n",
    "positive_numbers"
   ]
  },
  {
   "cell_type": "markdown",
   "id": "d1d5df6a",
   "metadata": {},
   "source": [
    "#### Exercise 14 - use a list comprehension w/ a conditional in order to produce a list of numbers with 2 or more numerals"
   ]
  },
  {
   "cell_type": "code",
   "execution_count": 31,
   "id": "5e70abdb",
   "metadata": {},
   "outputs": [
    {
     "data": {
      "text/plain": [
       "[10, 11, 13, 17, 19, 23, 256]"
      ]
     },
     "execution_count": 31,
     "metadata": {},
     "output_type": "execute_result"
    }
   ],
   "source": [
    "# This works in this specific example but woud not work with negative double or more digits\n",
    "numerals = [x for x in numbers if x>=10]\n",
    "numerals"
   ]
  },
  {
   "cell_type": "code",
   "execution_count": 40,
   "id": "a8eca6ba",
   "metadata": {},
   "outputs": [
    {
     "data": {
      "text/plain": [
       "[10, 11, 13, 17, 19, 23, 256]"
      ]
     },
     "execution_count": 40,
     "metadata": {},
     "output_type": "execute_result"
    }
   ],
   "source": [
    "# This would work in all cases negative or positive\n",
    "two_numerals = [x for x in numbers if len(str(abs(x))) >= 2]\n",
    "two_numerals"
   ]
  },
  {
   "cell_type": "markdown",
   "id": "b24380da",
   "metadata": {},
   "source": [
    "#### Exercise 15 - Make a variable named numbers_squared that contains the numbers list with each element squared. Output is [4, 9, 16, etc...]"
   ]
  },
  {
   "cell_type": "code",
   "execution_count": 42,
   "id": "afa5132d",
   "metadata": {},
   "outputs": [
    {
     "name": "stdout",
     "output_type": "stream",
     "text": [
      "[4, 9, 16, 25, 36, 49, 64, 81, 100, 121, 169, 289, 361, 529, 65536, 64, 16, 4, 25, 81]\n"
     ]
    }
   ],
   "source": [
    "numbers_squared = [x**2 for x in numbers]\n",
    "print(numbers_squared)"
   ]
  },
  {
   "cell_type": "markdown",
   "id": "9b3cb18d",
   "metadata": {},
   "source": [
    "#### Exercise 16 - Make a variable named odd_negative_numbers that contains only the numbers that are both odd and negative."
   ]
  },
  {
   "cell_type": "code",
   "execution_count": 46,
   "id": "424dbedf",
   "metadata": {},
   "outputs": [
    {
     "data": {
      "text/plain": [
       "[-9]"
      ]
     },
     "execution_count": 46,
     "metadata": {},
     "output_type": "execute_result"
    }
   ],
   "source": [
    "odd_negative_numbers = [x for x in numbers if x<0 and x%2!=0]\n",
    "odd_negative_numbers"
   ]
  },
  {
   "cell_type": "markdown",
   "id": "e694be92",
   "metadata": {},
   "source": [
    "#### Exercise 17 - Make a variable named numbers_plus_5. In it, return a list containing each number plus five"
   ]
  },
  {
   "cell_type": "code",
   "execution_count": 47,
   "id": "41058936",
   "metadata": {},
   "outputs": [
    {
     "data": {
      "text/plain": [
       "[7, 8, 9, 10, 11, 12, 13, 14, 15, 16, 18, 22, 24, 28, 261, -3, 1, 3, 10, -4]"
      ]
     },
     "execution_count": 47,
     "metadata": {},
     "output_type": "execute_result"
    }
   ],
   "source": [
    "numbers_plus_5 = [x+5 for x in numbers]\n",
    "numbers_plus_5"
   ]
  },
  {
   "cell_type": "markdown",
   "id": "89d76b12",
   "metadata": {},
   "source": [
    "#### BONUS Make a variable named \"primes\" that is a list containing the prime numbers in the numbers list. *Hint* you may want to make or find a helper function that determines if a given number is prime or not"
   ]
  },
  {
   "cell_type": "code",
   "execution_count": 129,
   "id": "eedc3685",
   "metadata": {},
   "outputs": [],
   "source": [
    "def is_prime(x):\n",
    "    if x in numbers:\n",
    "        for i in range(2, int(x/2)+1):\n",
    "            if x%i==0:\n",
    "                return False\n",
    "    return True"
   ]
  },
  {
   "cell_type": "code",
   "execution_count": 128,
   "id": "8ebadd70",
   "metadata": {},
   "outputs": [
    {
     "name": "stdout",
     "output_type": "stream",
     "text": [
      "False\n"
     ]
    }
   ],
   "source": [
    "print(is_prime(6))"
   ]
  },
  {
   "cell_type": "code",
   "execution_count": 131,
   "id": "18340c1c",
   "metadata": {},
   "outputs": [
    {
     "data": {
      "text/plain": [
       "[2, 3, 5, 7, 11, 13, 17, 19, 23, -8, -4, -2, 5, -9]"
      ]
     },
     "execution_count": 131,
     "metadata": {},
     "output_type": "execute_result"
    }
   ],
   "source": [
    "primes = [x for x in numbers if is_prime(x) == True]\n",
    "primes"
   ]
  }
 ],
 "metadata": {
  "kernelspec": {
   "display_name": "Python 3 (ipykernel)",
   "language": "python",
   "name": "python3"
  },
  "language_info": {
   "codemirror_mode": {
    "name": "ipython",
    "version": 3
   },
   "file_extension": ".py",
   "mimetype": "text/x-python",
   "name": "python",
   "nbconvert_exporter": "python",
   "pygments_lexer": "ipython3",
   "version": "3.9.7"
  }
 },
 "nbformat": 4,
 "nbformat_minor": 5
}

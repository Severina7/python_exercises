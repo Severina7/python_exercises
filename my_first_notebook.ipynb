{
 "cells": [
  {
   "cell_type": "markdown",
   "id": "bcc93597",
   "metadata": {},
   "source": [
    "# This is my first notebook\n",
    "### Types of things I wrote here:\n",
    "- Code\n",
    "- Markdown"
   ]
  },
  {
   "cell_type": "code",
   "execution_count": 38,
   "id": "0786c518",
   "metadata": {},
   "outputs": [
    {
     "name": "stdout",
     "output_type": "stream",
     "text": [
      "Hello, World!\n"
     ]
    }
   ],
   "source": [
    "print(\"Hello, World!\")"
   ]
  },
  {
   "cell_type": "code",
   "execution_count": 3,
   "id": "efcc7fa0",
   "metadata": {},
   "outputs": [
    {
     "name": "stdout",
     "output_type": "stream",
     "text": [
      "Hello, World!\n"
     ]
    }
   ],
   "source": [
    "greetings = \"Hello, World!\"\n",
    "print(greetings)"
   ]
  },
  {
   "cell_type": "code",
   "execution_count": 23,
   "id": "01bd51ba",
   "metadata": {},
   "outputs": [],
   "source": [
    "def add_numbers(x, y):\n",
    "    return x + y"
   ]
  },
  {
   "cell_type": "code",
   "execution_count": 24,
   "id": "60a2b382",
   "metadata": {},
   "outputs": [
    {
     "data": {
      "text/plain": [
       "12"
      ]
     },
     "execution_count": 24,
     "metadata": {},
     "output_type": "execute_result"
    }
   ],
   "source": [
    "add_numbers(5, 7)"
   ]
  },
  {
   "cell_type": "code",
   "execution_count": 26,
   "id": "911acedc",
   "metadata": {},
   "outputs": [
    {
     "data": {
      "text/plain": [
       "7"
      ]
     },
     "execution_count": 26,
     "metadata": {},
     "output_type": "execute_result"
    }
   ],
   "source": [
    "add_numbers(3, 4)"
   ]
  },
  {
   "cell_type": "code",
   "execution_count": 37,
   "id": "a3412294",
   "metadata": {
    "scrolled": false
   },
   "outputs": [
    {
     "data": {
      "text/plain": [
       "str"
      ]
     },
     "execution_count": 37,
     "metadata": {},
     "output_type": "execute_result"
    }
   ],
   "source": [
    "add_numbers('My name is ' , \"Arsene\")\n",
    "type('My name is')"
   ]
  },
  {
   "cell_type": "markdown",
   "id": "8c4f7129",
   "metadata": {},
   "source": [
    "#### These are just a few test codes to see how jupyter runs\n",
    "#### It is fun!\n",
    "- Run a cell is 'SHIFT + RETURN'.\n",
    "- Create a new cell below one 'a'.\n",
    "- Create a new cell above one 'b'.\n",
    "- Delete a selected cell 'd' then ',' then 'd' again.\n",
    "- Undo cell deletion 'z'."
   ]
  },
  {
   "cell_type": "markdown",
   "id": "fb3f23fe",
   "metadata": {},
   "source": []
  }
 ],
 "metadata": {
  "kernelspec": {
   "display_name": "Python 3 (ipykernel)",
   "language": "python",
   "name": "python3"
  },
  "language_info": {
   "codemirror_mode": {
    "name": "ipython",
    "version": 3
   },
   "file_extension": ".py",
   "mimetype": "text/x-python",
   "name": "python",
   "nbconvert_exporter": "python",
   "pygments_lexer": "ipython3",
   "version": "3.9.7"
  }
 },
 "nbformat": 4,
 "nbformat_minor": 5
}

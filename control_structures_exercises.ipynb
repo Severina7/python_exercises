{
 "cells": [
  {
   "cell_type": "markdown",
   "id": "657fab0e",
   "metadata": {},
   "source": [
    "## Conditional Basics"
   ]
  },
  {
   "cell_type": "markdown",
   "id": "129fd7d6",
   "metadata": {},
   "source": [
    "### a. Prompt the user for a day of the week, print out whether the day is Monday or not"
   ]
  },
  {
   "cell_type": "code",
   "execution_count": 116,
   "id": "cacf9e65",
   "metadata": {},
   "outputs": [
    {
     "name": "stdout",
     "output_type": "stream",
     "text": [
      "Enter a day of the week: Tuesday\n",
      "This is not Monday\n"
     ]
    }
   ],
   "source": [
    "Prompt = input('Enter a day of the week: ')\n",
    "if (Prompt == 'Monday'):\n",
    "    print('This is Monday')\n",
    "if (Prompt != 'Monday'):\n",
    "    print('This is not Monday')"
   ]
  },
  {
   "cell_type": "markdown",
   "id": "62f622cc",
   "metadata": {},
   "source": [
    "### b. Prompt the user for a day of the week, print out whether the day is a weekday or a weekend"
   ]
  },
  {
   "cell_type": "code",
   "execution_count": 29,
   "id": "2bca4231",
   "metadata": {},
   "outputs": [
    {
     "name": "stdout",
     "output_type": "stream",
     "text": [
      "Enter a day of the week: Monday\n",
      "This is a weekday\n"
     ]
    }
   ],
   "source": [
    "Prompt = input('Enter a day of the week: ')\n",
    "if (Prompt == 'Saturday') or (Prompt =='Sunday'):\n",
    "    print('This is a weekend')\n",
    "else:\n",
    "    print('This is a weekday')"
   ]
  },
  {
   "cell_type": "markdown",
   "id": "1dee6b7f",
   "metadata": {},
   "source": [
    "### c. Create variables and make up values for\n",
    "\n",
    "- the number of hours worked in one week\n",
    "- the hourly rate\n",
    "- how much the week's paycheck will be\n",
    "- write the python code that calculates the weekly paycheck. You get paid time and a half if you work more than 40 hours"
   ]
  },
  {
   "cell_type": "code",
   "execution_count": 40,
   "id": "7f748bb1",
   "metadata": {},
   "outputs": [
    {
     "data": {
      "text/plain": [
       "1800"
      ]
     },
     "execution_count": 40,
     "metadata": {},
     "output_type": "execute_result"
    }
   ],
   "source": [
    "Weekly_hours = 40\n",
    "Hourly_rate = 45\n",
    "Overtime = 67.5\n",
    "Weekly_paycheck = (Weekly_hours * Hourly_rate)\n",
    "Weekly_paycheck"
   ]
  },
  {
   "cell_type": "code",
   "execution_count": 45,
   "id": "c7622bc5",
   "metadata": {},
   "outputs": [
    {
     "data": {
      "text/plain": [
       "2137.5"
      ]
     },
     "execution_count": 45,
     "metadata": {},
     "output_type": "execute_result"
    }
   ],
   "source": [
    "Weekly_hours = 45\n",
    "Hourly_rate = 45\n",
    "Overtime = 67.5\n",
    "Weekly_paycheck = ((Weekly_hours - 5)* Hourly_rate) + ((Weekly_hours - 40) * Overtime)\n",
    "Weekly_paycheck"
   ]
  },
  {
   "cell_type": "markdown",
   "id": "43cb85c4",
   "metadata": {},
   "source": [
    "## Loop Basics"
   ]
  },
  {
   "cell_type": "markdown",
   "id": "8e4e4947",
   "metadata": {},
   "source": [
    "### a. While\n",
    "\n",
    "- Create an integer variable i with a value of 5.\n",
    "- Create a while loop that runs so long as i is less than or equal to 15\n",
    "- Each loop iteration, output the current value of i, then increment i by one."
   ]
  },
  {
   "cell_type": "code",
   "execution_count": 59,
   "id": "9fa04593",
   "metadata": {},
   "outputs": [
    {
     "name": "stdout",
     "output_type": "stream",
     "text": [
      "5\n",
      "6\n",
      "7\n",
      "8\n",
      "9\n",
      "10\n",
      "11\n",
      "12\n",
      "13\n",
      "14\n",
      "15\n"
     ]
    }
   ],
   "source": [
    "i = 5\n",
    "while i <= 15:\n",
    "    print (i)\n",
    "    i += 1"
   ]
  },
  {
   "cell_type": "markdown",
   "id": "b38757e5",
   "metadata": {},
   "source": [
    "- Create a while loop that will count by 2's starting with 0 and ending at 100. Follow each number with a new line.\n",
    "- Alter your loop to count backwards by 5's from 100 to -10.\n",
    "- Create a while loop that starts at 2, and displays the number squared on each line while the number is less than 1,000,000. Output should equal:"
   ]
  },
  {
   "cell_type": "code",
   "execution_count": 56,
   "id": "a678e48f",
   "metadata": {},
   "outputs": [
    {
     "name": "stdout",
     "output_type": "stream",
     "text": [
      "0\n",
      "2\n",
      "4\n",
      "6\n",
      "8\n",
      "10\n",
      "12\n",
      "14\n",
      "16\n",
      "18\n",
      "20\n",
      "22\n",
      "24\n",
      "26\n",
      "28\n",
      "30\n",
      "32\n",
      "34\n",
      "36\n",
      "38\n",
      "40\n",
      "42\n",
      "44\n",
      "46\n",
      "48\n",
      "50\n",
      "52\n",
      "54\n",
      "56\n",
      "58\n",
      "60\n",
      "62\n",
      "64\n",
      "66\n",
      "68\n",
      "70\n",
      "72\n",
      "74\n",
      "76\n",
      "78\n",
      "80\n",
      "82\n",
      "84\n",
      "86\n",
      "88\n",
      "90\n",
      "92\n",
      "94\n",
      "96\n",
      "98\n",
      "100\n"
     ]
    }
   ],
   "source": [
    "i = 0\n",
    "while i <= 101:\n",
    "    print(i)\n",
    "    i += 2"
   ]
  },
  {
   "cell_type": "code",
   "execution_count": 67,
   "id": "771d5298",
   "metadata": {},
   "outputs": [],
   "source": [
    "i = 100\n",
    "while i <= (-11):\n",
    "    print(i)\n",
    "    i += (-5)"
   ]
  },
  {
   "cell_type": "markdown",
   "id": "42cc0af0",
   "metadata": {},
   "source": [
    "- Write a loop that uses print to create the output shown below."
   ]
  },
  {
   "cell_type": "code",
   "execution_count": 83,
   "id": "1c511a83",
   "metadata": {},
   "outputs": [
    {
     "name": "stdout",
     "output_type": "stream",
     "text": [
      "2\n",
      "4\n",
      "16\n",
      "256\n",
      "65536\n"
     ]
    }
   ],
   "source": [
    "i = 2\n",
    "while i <= 65537:\n",
    "    print(i)\n",
    "    i *= i"
   ]
  },
  {
   "cell_type": "markdown",
   "id": "0168991c",
   "metadata": {},
   "source": [
    "### b. For Loops\n",
    "\n",
    "- Write some code that prompts the user for a number, then shows a multiplication table up through 10 for that number."
   ]
  },
  {
   "cell_type": "code",
   "execution_count": 126,
   "id": "7e01bf5e",
   "metadata": {},
   "outputs": [
    {
     "name": "stdout",
     "output_type": "stream",
     "text": [
      "Enter a number: 5\n",
      "The Multiplication Table of:  5\n",
      "5 x 1 = 5\n",
      "5 x 2 = 10\n",
      "5 x 3 = 15\n",
      "5 x 4 = 20\n",
      "5 x 5 = 25\n",
      "5 x 6 = 30\n",
      "5 x 7 = 35\n",
      "5 x 8 = 40\n",
      "5 x 9 = 45\n",
      "5 x 10 = 50\n"
     ]
    }
   ],
   "source": [
    "Number = int(input('Enter a number: '))\n",
    "print(\"The Multiplication Table of: \", Number)\n",
    "for count in range(1, 11):      \n",
    "    print (Number, 'x', count, '=', Number * count)"
   ]
  },
  {
   "cell_type": "markdown",
   "id": "941219e1",
   "metadata": {},
   "source": [
    "- Create a for loop that uses print to create the output shown below."
   ]
  },
  {
   "cell_type": "markdown",
   "id": "1343e594",
   "metadata": {},
   "source": [
    "### c. Break and Continue\n",
    "\n",
    "- Prompt the user for an odd number between 1 and 50. Use a loop and a break statement to continue prompting the user if they enter invalid input. (Hint: use the isdigit method on strings to determine this). Use a loop and the continue statement to output all the odd numbers between 1 and 50, except for the number the user entered."
   ]
  },
  {
   "cell_type": "markdown",
   "id": "52193a25",
   "metadata": {},
   "source": [
    "- The input function can be used to prompt for input and use that input in your python code. Prompt the user to enter a positive number and write a loop that counts from 0 to that number. "
   ]
  },
  {
   "cell_type": "markdown",
   "id": "31cf8bd1",
   "metadata": {},
   "source": [
    "- Write a program that prompts the user for a positive integer. Next write a loop that prints out the numbers from the number the user entered down to 1."
   ]
  },
  {
   "cell_type": "markdown",
   "id": "d7b89533",
   "metadata": {},
   "source": [
    "## Fizzbuzz\n",
    "\n",
    "One of the most common interview questions for entry-level programmers is the FizzBuzz test. Developed by Imran Ghory, the test is designed to test basic looping and conditional logic skills.\n",
    "\n",
    "- Write a program that prints the numbers from 1 to 100.\n",
    "- For multiples of three print \"Fizz\" instead of the number\n",
    "- For the multiples of five print \"Buzz\".\n",
    "- For numbers which are multiples of both three and five print \"FizzBuzz\"."
   ]
  },
  {
   "cell_type": "markdown",
   "id": "3516eb4e",
   "metadata": {},
   "source": [
    "## Display a table of powers.\n",
    "\n",
    "- Prompt the user to enter an integer.\n",
    "- Display a table of squares and cubes from 1 to the value entered.\n",
    "- Ask if the user wants to continue.\n",
    "- Assume that the user will enter valid data.\n",
    "- Only continue if the user agrees to."
   ]
  },
  {
   "cell_type": "markdown",
   "id": "f244cf5a",
   "metadata": {},
   "source": [
    "## Bonus: Research python's format string specifiers to align the table\n",
    "\n",
    "## 5. Convert given number grades into letter grades.\n",
    "\n",
    "- Prompt the user for a numerical grade from 0 to 100.\n",
    "- Display the corresponding letter grade.\n",
    "- Prompt the user to continue.\n",
    "- Assume that the user will enter valid integers for the grades.\n",
    "- The application should only continue if the user agrees to.\n",
    "Grade Ranges:\n",
    "\n",
    "A : 100 - 88\n",
    "B : 87 - 80\n",
    "C : 79 - 67\n",
    "D : 66 - 60\n",
    "F : 59 - 0\n",
    "\n",
    "## Bonus\n",
    "- Edit your grade ranges to include pluses and minuses (ex: 99-100 = A+).\n",
    "\n",
    "## 6. Create a list of dictionaries where each dictionary represents a book that you have read. Each dictionary in the list should have the keys title, author, and genre. Loop through the list and print out information about each book.\n",
    "\n",
    "### a. Prompt the user to enter a genre, then loop through your books list and print out the titles of all the books in that genre."
   ]
  },
  {
   "cell_type": "code",
   "execution_count": null,
   "id": "a65c0acb",
   "metadata": {},
   "outputs": [],
   "source": []
  }
 ],
 "metadata": {
  "kernelspec": {
   "display_name": "Python 3 (ipykernel)",
   "language": "python",
   "name": "python3"
  },
  "language_info": {
   "codemirror_mode": {
    "name": "ipython",
    "version": 3
   },
   "file_extension": ".py",
   "mimetype": "text/x-python",
   "name": "python",
   "nbconvert_exporter": "python",
   "pygments_lexer": "ipython3",
   "version": "3.9.7"
  }
 },
 "nbformat": 4,
 "nbformat_minor": 5
}
